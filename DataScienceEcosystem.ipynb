{
  "nbformat": 4,
  "nbformat_minor": 0,
  "metadata": {
    "colab": {
      "provenance": []
    },
    "kernelspec": {
      "name": "python3",
      "display_name": "Python 3"
    },
    "language_info": {
      "name": "python"
    }
  },
  "cells": [
    {
      "cell_type": "markdown",
      "source": [
        "# Data Science Tools and Ecosystem"
      ],
      "metadata": {
        "id": "8WQIcmMQ0k4Z"
      }
    },
    {
      "cell_type": "markdown",
      "source": [
        "In this notebook, Data Science Tools and Ecosystem are summarized."
      ],
      "metadata": {
        "id": "PXQ_N4k20zIG"
      }
    },
    {
      "cell_type": "markdown",
      "source": [
        "**Objectives:**\n",
        "* List popular languages for Data Science.\n",
        "* List commonly used libraries for Data Science.\n",
        "* Identify popular Data Science tools.\n",
        "* Perform basic arithmetic operations in a code cell.\n",
        "* Convert units using Python expressions."
      ],
      "metadata": {
        "id": "uIgoj7m95IJa"
      }
    },
    {
      "cell_type": "markdown",
      "source": [
        "Some of the popular languages that Data Scientists use are:\n",
        "1. Python\n",
        "2. R\n",
        "3. SQL\n",
        "4. Scala\n",
        "5. Julia"
      ],
      "metadata": {
        "id": "iOCelP7e1Z2_"
      }
    },
    {
      "cell_type": "markdown",
      "source": [
        "Some of the commonly used libraries used by Data Scientists include:\n",
        "1. Pandas\n",
        "2. NumPy\n",
        "3. Matplotlib\n",
        "4. Scikit-learn\n",
        "5. TensorFlow"
      ],
      "metadata": {
        "id": "cVRqZ2E01odT"
      }
    },
    {
      "cell_type": "markdown",
      "source": [
        "| Data Science Tools |\n",
        "|--------------------|\n",
        "| Jupyter Notebooks  |\n",
        "| RStudio            |\n",
        "| Apache Zeppelin    |"
      ],
      "metadata": {
        "id": "CCFYNw0z15BI"
      }
    },
    {
      "cell_type": "markdown",
      "source": [
        "### Below are a few examples of evaluating arithmetic expressions in Python."
      ],
      "metadata": {
        "id": "qiidl6bM2RHq"
      }
    },
    {
      "cell_type": "code",
      "source": [
        "# This a simple arithmetic expression to multiply then add integers.\n",
        "(3 * 4) + 5"
      ],
      "metadata": {
        "colab": {
          "base_uri": "https://localhost:8080/"
        },
        "id": "vTZ9KAq32VOz",
        "outputId": "4e96447b-3d39-46e6-8dc2-3f377bb1f1e5"
      },
      "execution_count": 1,
      "outputs": [
        {
          "output_type": "execute_result",
          "data": {
            "text/plain": [
              "17"
            ]
          },
          "metadata": {},
          "execution_count": 1
        }
      ]
    },
    {
      "cell_type": "code",
      "source": [
        "# This will convert 200 minutes to hours by dividing by 60.\n",
        "200 / 60"
      ],
      "metadata": {
        "colab": {
          "base_uri": "https://localhost:8080/"
        },
        "id": "d7og343P2qAS",
        "outputId": "8b54d98f-c561-44d4-da80-fe114ec96287"
      },
      "execution_count": 2,
      "outputs": [
        {
          "output_type": "execute_result",
          "data": {
            "text/plain": [
              "3.3333333333333335"
            ]
          },
          "metadata": {},
          "execution_count": 2
        }
      ]
    },
    {
      "cell_type": "markdown",
      "source": [
        "## Author\n",
        "Jelly Ann Elle"
      ],
      "metadata": {
        "id": "Jrrb3-wB5tgy"
      }
    },
    {
      "cell_type": "code",
      "source": [],
      "metadata": {
        "id": "pS5_p8Zl5_VC"
      },
      "execution_count": null,
      "outputs": []
    },
    {
      "cell_type": "code",
      "source": [],
      "metadata": {
        "id": "r1J07Paq6CHu"
      },
      "execution_count": null,
      "outputs": []
    }
  ]
}